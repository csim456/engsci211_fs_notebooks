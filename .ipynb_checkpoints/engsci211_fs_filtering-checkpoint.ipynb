{
 "cells": [
  {
   "cell_type": "markdown",
   "metadata": {},
   "source": [
    "# Fourier Series - Partial Sums\n",
    "\n",
    "*ENGSCI 211 Mathematical Modelling 2 - Summer School 2020*\n",
    "\n",
    "## Background to Notebook\n",
    "\n",
    "This notebook contains one interactive visualisation (see below for details) on the topic of partial sums and Fourier series.\n",
    "\n"
   ]
  },
  {
   "cell_type": "code",
   "execution_count": 4,
   "metadata": {
    "scrolled": false
   },
   "outputs": [
    {
     "ename": "TypeError",
     "evalue": "FilterFreqs() missing 3 required positional arguments: 'audioData', 'freqDom', and 'freqs'",
     "output_type": "error",
     "traceback": [
      "\u001b[1;31m---------------------------------------------------------------------------\u001b[0m",
      "\u001b[1;31mTypeError\u001b[0m                                 Traceback (most recent call last)",
      "\u001b[1;32m<ipython-input-4-8e6e5a47aab4>\u001b[0m in \u001b[0;36m<module>\u001b[1;34m()\u001b[0m\n\u001b[0;32m      1\u001b[0m \u001b[1;32mfrom\u001b[0m \u001b[0msourcecode_fs\u001b[0m \u001b[1;32mimport\u001b[0m \u001b[1;33m*\u001b[0m\u001b[1;33m\u001b[0m\u001b[0m\n\u001b[0;32m      2\u001b[0m \u001b[1;33m\u001b[0m\u001b[0m\n\u001b[1;32m----> 3\u001b[1;33m \u001b[0mFilterFreqs\u001b[0m\u001b[1;33m(\u001b[0m\u001b[1;33m)\u001b[0m\u001b[1;33m\u001b[0m\u001b[0m\n\u001b[0m",
      "\u001b[1;31mTypeError\u001b[0m: FilterFreqs() missing 3 required positional arguments: 'audioData', 'freqDom', and 'freqs'"
     ]
    }
   ],
   "source": [
    "from sourcecode_fs import *\n",
    "\n",
    "# note: this will create a filtered sound file in your local directory + sound\\n,\n",
    "\n",
    "guitar, bell, synth = FourierAnalysis()\n",
    "\n",
    "MusicNote(*guitar)\n",
    "# MusicNote(*bell)\n",
    "# MusicNote(*synth)\n",
    "\n",
    "FilterFreqs(*guitar)\n",
    "# FilterFreqs(*bell)\n",
    "# FilterFreqs(*synth)\n",
    "\n",
    "FilterFreqs()"
   ]
  }
 ],
 "metadata": {
  "kernelspec": {
   "display_name": "Python 3",
   "language": "python",
   "name": "python3"
  },
  "language_info": {
   "codemirror_mode": {
    "name": "ipython",
    "version": 3
   },
   "file_extension": ".py",
   "mimetype": "text/x-python",
   "name": "python",
   "nbconvert_exporter": "python",
   "pygments_lexer": "ipython3",
   "version": "3.6.5"
  }
 },
 "nbformat": 4,
 "nbformat_minor": 2
}
