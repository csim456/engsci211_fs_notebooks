{
 "cells": [
  {
   "cell_type": "markdown",
   "metadata": {},
   "source": [
    "# Fourier Series: Even/Odd Functions and Half-Range Integration\n",
    "\n",
    "*ENGSCI 211 Mathematical Modelling 2 - Summer School 2020*\n",
    "\n",
    "## Background to Notebook\n",
    "\n",
    "This notebook contains one interactive visualisation (see below for details) on the topic of even/odd functions and half-range integration.\n",
    "\n",
    "\n",
    "### EvenOdd()\n",
    "Description of visualisation goes here..."
   ]
  },
  {
   "cell_type": "code",
   "execution_count": 2,
   "metadata": {
    "scrolled": false
   },
   "outputs": [
    {
     "data": {
      "application/vnd.jupyter.widget-view+json": {
       "model_id": "7caead5d4ba24b3f808e326feb937e67",
       "version_major": 2,
       "version_minor": 0
      },
      "text/plain": [
       "VBox(children=(HBox(children=(Dropdown(options={'cos(x)': <ufunc 'cos'>, 'cos(2x)': <function cos2 at 0x000001…"
      ]
     },
     "metadata": {},
     "output_type": "display_data"
    }
   ],
   "source": [
    "from sourcecode_fs import EvenOdd\n",
    "\n",
    "# demo of even and odd functions, and concept of half-range integration\n",
    "EvenOdd()"
   ]
  }
 ],
 "metadata": {
  "kernelspec": {
   "display_name": "Python 3",
   "language": "python",
   "name": "python3"
  },
  "language_info": {
   "codemirror_mode": {
    "name": "ipython",
    "version": 3
   },
   "file_extension": ".py",
   "mimetype": "text/x-python",
   "name": "python",
   "nbconvert_exporter": "python",
   "pygments_lexer": "ipython3",
   "version": "3.6.5"
  }
 },
 "nbformat": 4,
 "nbformat_minor": 2
}
