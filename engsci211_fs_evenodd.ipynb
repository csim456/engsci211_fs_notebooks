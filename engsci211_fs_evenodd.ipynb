{
 "cells": [
  {
   "cell_type": "markdown",
   "metadata": {},
   "source": [
    "# Fourier Series: Even/Odd Functions and Half-Range Integration\n",
    "\n",
    "*ENGSCI 211 Mathematical Modelling 2 - Summer School 2020*\n",
    "\n",
    "## Background to Notebook\n",
    "\n",
    "This notebook contains one interactive visualisation (see below for details) on the topic of even/odd functions and half-range integration.\n",
    "\n",
    "\n",
    "### EvenOdd()\n",
    "Description of visualisation goes here..."
   ]
  },
  {
   "cell_type": "code",
   "execution_count": 6,
   "metadata": {
    "scrolled": false
   },
   "outputs": [],
   "source": [
    "from sourcecode_fs import EvenOdd\n",
    "\n",
    "# demo of even and odd functions, and concept of half-range integration\n",
    "EvenOdd()"
   ]
  }
 ],
 "metadata": {
  "kernelspec": {
   "display_name": "Python 3",
   "language": "python",
   "name": "python3"
  },
  "language_info": {
   "codemirror_mode": {
    "name": "ipython",
    "version": 3
   },
   "file_extension": ".py",
   "mimetype": "text/x-python",
   "name": "python",
   "nbconvert_exporter": "python",
   "pygments_lexer": "ipython3",
   "version": "3.6.5"
  }
 },
 "nbformat": 4,
 "nbformat_minor": 2
}
