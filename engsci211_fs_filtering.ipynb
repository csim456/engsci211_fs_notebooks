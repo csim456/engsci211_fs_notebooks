{
 "cells": [
  {
   "cell_type": "markdown",
   "metadata": {},
   "source": [
    "# Fourier Series - Audio Filtering\n",
    "\n",
    "*ENGSCI 211 Mathematical Modelling 2 - Summer School 2020*\n",
    "\n",
    "## Background to Notebook\n",
    "\n",
    "This notebook contains one interactive visualisation (see below for details) on the topic of audio filtering using Fourier series."
   ]
  },
  {
   "cell_type": "code",
   "execution_count": 7,
   "metadata": {
    "scrolled": false
   },
   "outputs": [
    {
     "name": "stderr",
     "output_type": "stream",
     "text": [
      "C:\\Users\\colinsimpson\\Anaconda3\\lib\\site-packages\\scipy\\io\\wavfile.py:273: WavFileWarning: Chunk (non-data) not understood, skipping it.\n",
      "  WavFileWarning)\n"
     ]
    },
    {
     "data": {
      "application/vnd.jupyter.widget-view+json": {
       "model_id": "0b4704908446439d9a164a35dc2cefb0",
       "version_major": 2,
       "version_minor": 0
      },
      "text/plain": [
       "VBox(children=(Output(), HBox(children=(IntRangeSlider(value=(0, 22500), continuous_update=False, description=…"
      ]
     },
     "metadata": {},
     "output_type": "display_data"
    }
   ],
   "source": [
    "from sourcecode_fs import *\n",
    "\n",
    "# note: this will create a filtered sound file in your local directory + sound\\n,\n",
    "\n",
    "guitar, bell, synth = FourierAnalysis()\n",
    "\n",
    "MusicNote(*guitar)\n",
    "# MusicNote(*bell)\n",
    "# MusicNote(*synth)\n",
    "\n",
    "FilterFreqs(*guitar)\n",
    "# FilterFreqs(*bell)\n",
    "# FilterFreqs(*synth)"
   ]
  }
 ],
 "metadata": {
  "kernelspec": {
   "display_name": "Python 3",
   "language": "python",
   "name": "python3"
  },
  "language_info": {
   "codemirror_mode": {
    "name": "ipython",
    "version": 3
   },
   "file_extension": ".py",
   "mimetype": "text/x-python",
   "name": "python",
   "nbconvert_exporter": "python",
   "pygments_lexer": "ipython3",
   "version": "3.6.5"
  }
 },
 "nbformat": 4,
 "nbformat_minor": 2
}
